{
  "nbformat": 4,
  "nbformat_minor": 0,
  "metadata": {
    "colab": {
      "name": "Dimentionality reduction using Feature Extraction.ipynb",
      "provenance": [],
      "collapsed_sections": [],
      "authorship_tag": "ABX9TyOZazy8oF7a7tberqZ0ulyj",
      "include_colab_link": true
    },
    "kernelspec": {
      "name": "python3",
      "display_name": "Python 3"
    },
    "language_info": {
      "name": "python"
    }
  },
  "cells": [
    {
      "cell_type": "markdown",
      "metadata": {
        "id": "view-in-github",
        "colab_type": "text"
      },
      "source": [
        "<a href=\"https://colab.research.google.com/github/MananHakani/Contact-Manager/blob/main/Dimentionality_reduction_using_Feature_Extraction/Dimentionality_reduction_using_Feature_Extraction.ipynb\" target=\"_parent\"><img src=\"https://colab.research.google.com/assets/colab-badge.svg\" alt=\"Open In Colab\"/></a>"
      ]
    },
    {
      "cell_type": "markdown",
      "source": [
        "**Reducing Features Using Principal Components**"
      ],
      "metadata": {
        "id": "wDYrDwG4cxzo"
      }
    },
    {
      "cell_type": "code",
      "source": [
        "# Manan Hakani Data Science\n",
        "\n",
        "# Load libraries\n",
        "from sklearn.preprocessing import StandardScaler\n",
        "from sklearn.decomposition import PCA\n",
        "from sklearn import datasets\n",
        "\n",
        "# Load the data\n",
        "digits = datasets.load_digits()\n",
        "\n",
        "# Standardize the feature matrix\n",
        "X = StandardScaler().fit_transform(digits.data)\n",
        "\n",
        "# Create a PCA that will retain 99% of the variance\n",
        "pca = PCA(n_components=0.99, whiten=True)\n",
        "\n",
        "# Conduct PCA\n",
        "X_pca = pca.fit_transform(X)\n",
        "\n",
        "# Show results\n",
        "print('Original number of features:', X.shape[1])\n",
        "print('Reduced number of features:', X_pca.shape[1])"
      ],
      "metadata": {
        "colab": {
          "base_uri": "https://localhost:8080/"
        },
        "id": "aQlrTueibV9o",
        "outputId": "6cea1586-41eb-45b3-a7b9-9b2771591b6d"
      },
      "execution_count": null,
      "outputs": [
        {
          "output_type": "stream",
          "name": "stdout",
          "text": [
            "Original number of features: 64\n",
            "Reduced number of features: 54\n"
          ]
        }
      ]
    },
    {
      "cell_type": "markdown",
      "source": [
        "**Reducing Features When Data Is Linearly Inseparable**"
      ],
      "metadata": {
        "id": "fbA5RwGmc85g"
      }
    },
    {
      "cell_type": "code",
      "source": [
        "# Manan Hakani Data Science\n",
        "\n",
        "# Load libraries\n",
        "from sklearn.decomposition import PCA, KernelPCA\n",
        "from sklearn.datasets import make_circles\n",
        "\n",
        "# Create linearly inseparable data\n",
        "X, _ = make_circles(n_samples=1000, random_state=1, noise=0.1, factor=0.1)\n",
        "\n",
        "# Apply kernal PCA with radius basis function (RBF) kernel\n",
        "kpca = KernelPCA(kernel=\"rbf\", gamma=15, n_components=1)\n",
        "X_kpca = kpca.fit_transform(X)\n",
        "\n",
        "print('Original number of features:', X.shape[1])\n",
        "print('Reduced number of features:', X_kpca.shape[1])"
      ],
      "metadata": {
        "colab": {
          "base_uri": "https://localhost:8080/"
        },
        "id": "TSkp4xSTdCzn",
        "outputId": "f4271d16-055a-4678-f070-df586fa9ad55"
      },
      "execution_count": null,
      "outputs": [
        {
          "output_type": "stream",
          "name": "stdout",
          "text": [
            "Original number of features: 2\n",
            "Reduced number of features: 1\n"
          ]
        }
      ]
    },
    {
      "cell_type": "markdown",
      "source": [
        "**Reducing Features by Maximizing Class Separability**"
      ],
      "metadata": {
        "id": "2DmJtiV_U6c6"
      }
    },
    {
      "cell_type": "code",
      "source": [
        "# Manan Hakani Data Science\n",
        "\n",
        "# Load libraries\n",
        "from sklearn import datasets\n",
        "from sklearn.discriminant_analysis import LinearDiscriminantAnalysis\n",
        "\n",
        "# Load the Iris flower dataset:\n",
        "iris = datasets.load_iris()\n",
        "X = iris.data\n",
        "y = iris.target\n",
        "\n",
        "# Create an LDA that will reduce the data down to 1 feature\n",
        "lda = LinearDiscriminantAnalysis(n_components=1)\n",
        "\n",
        "# run an LDA and use it to transform the features\n",
        "X_lda = lda.fit(X, y).transform(X)\n",
        "\n",
        "# Print the number of features\n",
        "print('Original number of features:', X.shape[1])\n",
        "print('Reduced number of features:', X_lda.shape[1])"
      ],
      "metadata": {
        "colab": {
          "base_uri": "https://localhost:8080/"
        },
        "id": "kSECTiq4U7xS",
        "outputId": "65c5ab6e-88dd-4d36-830e-a59e221ec875"
      },
      "execution_count": null,
      "outputs": [
        {
          "output_type": "stream",
          "name": "stdout",
          "text": [
            "Original number of features: 4\n",
            "Reduced number of features: 1\n"
          ]
        }
      ]
    },
    {
      "cell_type": "markdown",
      "source": [
        "We can use explained_variance_ratio_ to view the amount of variance explained by each component."
      ],
      "metadata": {
        "id": "S48BNPwqRWYd"
      }
    },
    {
      "cell_type": "code",
      "source": [
        "# Manan Hakani Data Science\n",
        "\n",
        "## View the ratio of explained variance\n",
        "lda.explained_variance_ratio_"
      ],
      "metadata": {
        "colab": {
          "base_uri": "https://localhost:8080/"
        },
        "id": "hRlKFVgsRX4N",
        "outputId": "5a672af6-7dbd-4f24-e3b4-9d9bbd614453"
      },
      "execution_count": null,
      "outputs": [
        {
          "output_type": "execute_result",
          "data": {
            "text/plain": [
              "array([0.9912126])"
            ]
          },
          "metadata": {},
          "execution_count": 3
        }
      ]
    }
  ]
}